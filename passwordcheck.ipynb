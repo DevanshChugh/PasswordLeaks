{
 "cells": [
  {
   "cell_type": "code",
   "execution_count": null,
   "metadata": {},
   "outputs": [],
   "source": [
    "import requests\n",
    "import hashlib\n",
    "\n",
    "\n",
    "def request_api_data(query_char):\n",
    "    url = 'https://api.pwnedpasswords.com/range/' + query_char\n",
    "    res = requests.get(url)\n",
    "    if res.status_code != 200:\n",
    "        raise RuntimeError(f'Error fetching: {res.status_code} check the API')\n",
    "    return res\n",
    "\n",
    "\n",
    "def get_password_leaks_count(hashes, hash_to_check):\n",
    "    hashes = (line.split(':') for line in hashes.text.splitlines())\n",
    "    for h, count in hashes:\n",
    "        if h == hash_to_check:\n",
    "            return count\n",
    "    return 0\n",
    "\n",
    "\n",
    "def pwned_api_check(password):\n",
    "    sha1password = hashlib.sha1(password.encode('utf-8')).hexdigest().upper()\n",
    "    first5_char, tail = sha1password[:5], sha1password[5:]\n",
    "    response = request_api_data(first5_char)\n",
    "    return get_password_leaks_count(response, tail)\n",
    "\n",
    "\n",
    "def main(args):\n",
    "    count = pwned_api_check(args)\n",
    "    if count:\n",
    "        print(f'{args} was found {count} times')\n",
    "    else:\n",
    "        print(f'{args} was not found! Carry On')\n",
    "\n",
    "\n",
    "if __name__ == '__main__':\n",
    "    while True:\n",
    "        password = input('type \"break\" to exit\\npassword: ')\n",
    "        \n",
    "        if password == 'break':\n",
    "            break\n",
    "\n",
    "        main(password)"
   ]
  }
 ],
 "metadata": {
  "language_info": {
   "name": "python"
  },
  "orig_nbformat": 4
 },
 "nbformat": 4,
 "nbformat_minor": 2
}
